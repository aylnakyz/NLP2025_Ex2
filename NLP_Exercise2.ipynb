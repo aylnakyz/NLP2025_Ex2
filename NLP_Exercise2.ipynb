{
  "nbformat": 4,
  "nbformat_minor": 0,
  "metadata": {
    "colab": {
      "provenance": [],
      "include_colab_link": true
    },
    "kernelspec": {
      "name": "python3",
      "display_name": "Python 3"
    },
    "language_info": {
      "name": "python"
    }
  },
  "cells": [
    {
      "cell_type": "markdown",
      "metadata": {
        "id": "view-in-github",
        "colab_type": "text"
      },
      "source": [
        "<a href=\"https://colab.research.google.com/github/aylnakyz/NLP2025_Ex2/blob/main/NLP_Exercise2.ipynb\" target=\"_parent\"><img src=\"https://colab.research.google.com/assets/colab-badge.svg\" alt=\"Open In Colab\"/></a>"
      ]
    },
    {
      "cell_type": "code",
      "execution_count": 1,
      "metadata": {
        "id": "vowXRstocd8F"
      },
      "outputs": [],
      "source": [
        "import torch\n",
        "import torch.nn.functional as F\n",
        "import matplotlib.pyplot as plt\n",
        "import pandas as pd\n",
        "from sklearn.model_selection import train_test_split\n",
        "\n",
        "%matplotlib inline"
      ]
    },
    {
      "cell_type": "code",
      "source": [
        "# Downloading US cities dataset and loading it into a dataframe\n",
        "url = 'https://raw.githubusercontent.com/aylnakyz/NLP2025_Ex2/28ffd6ce374acfceb55d483d4e89dd99d6d65558/uscitynames.csv'\n",
        "df = pd.read_csv(url)\n",
        "#df.head()\n",
        "\n",
        "# Turning the 'uscity' column into a lowercase list of city names\n",
        "uscitynames_lowercase = df['uscity'].str.lower().tolist()\n",
        "words = [city for city in uscitynames_lowercase if not any(char.isdigit() for char in city)]\n",
        "\n",
        "# Creating a list of cities\n",
        "words = [city for city in uscitynames_lowercase]\n",
        "\n",
        "# Printing the list and its length\n",
        "print(words[:100])\n",
        "print(\"Length of uscitynames list:\", len(words))\n"
      ],
      "metadata": {
        "colab": {
          "base_uri": "https://localhost:8080/"
        },
        "id": "LctREYBNKp41",
        "outputId": "2948fad8-4315-470b-b05a-8dd545761e4f"
      },
      "execution_count": 2,
      "outputs": [
        {
          "output_type": "stream",
          "name": "stdout",
          "text": [
            "['new york', 'los angeles', 'chicago', 'miami', 'houston', 'dallas', 'philadelphia', 'atlanta', 'washington', 'boston', 'phoenix', 'detroit', 'seattle', 'san francisco', 'san diego', 'minneapolis', 'tampa', 'brooklyn', 'denver', 'queens', 'riverside', 'las vegas', 'baltimore', 'st. louis', 'portland', 'san antonio', 'sacramento', 'austin', 'orlando', 'san juan', 'san jose', 'indianapolis', 'pittsburgh', 'cincinnati', 'manhattan', 'kansas city', 'cleveland', 'columbus', 'bronx', 'charlotte', 'virginia beach', 'jacksonville', 'milwaukee', 'providence', 'nashville', 'salt lake city', 'raleigh', 'richmond', 'memphis', 'oklahoma city', 'hartford', 'louisville', 'buffalo', 'fort worth', 'bridgeport', 'new orleans', 'tucson', 'el paso', 'omaha', 'mcallen', 'birmingham', 'albuquerque', 'tulsa', 'charleston', 'fresno', 'rochester', 'dayton', 'cape coral', 'provo', 'colorado springs', 'mission viejo', 'allentown', 'baton rouge', 'ogden', 'knoxville', 'grand rapids', 'columbia', 'albany', 'bakersfield', 'new haven', 'des moines', 'palm bay', 'akron', 'concord', 'mesa', 'wichita', 'harrisburg', 'staten island', 'toledo', 'worcester', 'port st. lucie', 'little rock', 'madison', 'spokane', 'long beach', 'denton', 'reno', 'boise', 'bonita springs', 'kissimmee']\n",
            "Length of uscitynames list: 31254\n"
          ]
        }
      ]
    },
    {
      "cell_type": "code",
      "source": [
        "# Build the vocabulary of characters, keeping only letters and spaces\n",
        "chars = sorted(list(set(c for c in ''.join(words) if c.isalpha())))\n",
        "\n",
        "\n",
        "# Create mappings to/from integers\n",
        "stoi = {s:i+1 for i, s in enumerate(chars)}\n",
        "stoi['.'] = 0  # Keep the dot as a special symbol (optional)\n",
        "itos = {i:s for s,i in stoi.items()}\n",
        "\n",
        "print(itos)\n",
        "print(\"Vocabulary size:\", len(itos))"
      ],
      "metadata": {
        "colab": {
          "base_uri": "https://localhost:8080/"
        },
        "id": "PiYY5x73F9PV",
        "outputId": "fd35933b-d88a-46d6-f5fd-70ca3a0ebeca"
      },
      "execution_count": 3,
      "outputs": [
        {
          "output_type": "stream",
          "name": "stdout",
          "text": [
            "{1: 'a', 2: 'b', 3: 'c', 4: 'd', 5: 'e', 6: 'f', 7: 'g', 8: 'h', 9: 'i', 10: 'j', 11: 'k', 12: 'l', 13: 'm', 14: 'n', 15: 'o', 16: 'p', 17: 'q', 18: 'r', 19: 's', 20: 't', 21: 'u', 22: 'v', 23: 'w', 24: 'x', 25: 'y', 26: 'z', 27: 'á', 28: 'é', 29: 'í', 30: 'ñ', 31: 'ó', 32: 'ú', 33: 'ü', 0: '.'}\n",
            "Vocabulary size: 34\n"
          ]
        }
      ]
    },
    {
      "cell_type": "code",
      "source": [
        "# build the dataset\n",
        "block_size = 3 # context length: how many characters do we take to predict the next one?\n",
        "\n",
        "def build_dataset(words):\n",
        "  X, Y = [], []\n",
        "  for w in words:\n",
        "\n",
        "    #print(w)\n",
        "    context = [0] * block_size\n",
        "    for ch in w + '.':\n",
        "      if ch in stoi:\n",
        "        ix = stoi[ch]\n",
        "        X.append(context)\n",
        "        Y.append(ix)\n",
        "        #print(''.join(itos[i] for i in context), '--->', itos[ix])\n",
        "        context = context[1:] + [ix] # crop and append\n",
        "      else:\n",
        "          # Handle the unknown character, for example by skipping it or replacing it\n",
        "          # with a special token\n",
        "          pass # skip the unknown character\n",
        "\n",
        "  X = torch.tensor(X)\n",
        "  Y = torch.tensor(Y)\n",
        "  print(X.shape, Y.shape)\n",
        "  return X, Y\n",
        "\n",
        "import random\n",
        "random.seed(42)\n",
        "random.shuffle(words)\n",
        "n1 = int(0.8*len(words))\n",
        "n2 = int(0.9*len(words))\n",
        "\n",
        "Xtr, Ytr = build_dataset(words[:n1])\n",
        "Xdev, Ydev = build_dataset(words[n1:n2])\n",
        "Xte, Yte = build_dataset(words[n2:])"
      ],
      "metadata": {
        "colab": {
          "base_uri": "https://localhost:8080/"
        },
        "id": "MB5XgJxdczFi",
        "outputId": "962f4f01-3d57-47a9-d78d-438ede346a38"
      },
      "execution_count": 4,
      "outputs": [
        {
          "output_type": "stream",
          "name": "stdout",
          "text": [
            "torch.Size([244285, 3]) torch.Size([244285])\n",
            "torch.Size([30589, 3]) torch.Size([30589])\n",
            "torch.Size([30603, 3]) torch.Size([30603])\n"
          ]
        }
      ]
    },
    {
      "cell_type": "code",
      "source": [
        "vocab_size = len(itos) #To adjust the embedding matrix size\n",
        "g = torch.Generator().manual_seed(2147483647) # for reproducibility\n",
        "C = torch.randn((vocab_size, 10), generator=g)\n",
        "W1 = torch.randn((30, 200), generator=g)\n",
        "b1 = torch.randn(200, generator=g)\n",
        "W2 = torch.randn((200, vocab_size), generator=g)\n",
        "b2 = torch.randn(vocab_size, generator=g)\n",
        "\n",
        "parameters = [C, W1, b1, W2, b2]"
      ],
      "metadata": {
        "id": "vWfgbR7bPUnz"
      },
      "execution_count": 5,
      "outputs": []
    },
    {
      "cell_type": "code",
      "source": [
        "sum(p.nelement() for p in parameters) # number of parameters in total"
      ],
      "metadata": {
        "colab": {
          "base_uri": "https://localhost:8080/"
        },
        "id": "_HcVef6-c5S4",
        "outputId": "02539ca0-2e14-441e-ef5a-2ee1c3d5782d"
      },
      "execution_count": 6,
      "outputs": [
        {
          "output_type": "execute_result",
          "data": {
            "text/plain": [
              "13374"
            ]
          },
          "metadata": {},
          "execution_count": 6
        }
      ]
    },
    {
      "cell_type": "code",
      "source": [
        "for p in parameters:\n",
        "  p.requires_grad = True"
      ],
      "metadata": {
        "id": "coNBea1sc6tm"
      },
      "execution_count": 7,
      "outputs": []
    },
    {
      "cell_type": "code",
      "source": [
        "lre = torch.linspace(-3, 0, 1000)\n",
        "lrs = 10**lre"
      ],
      "metadata": {
        "id": "nFWpAj_9c9Yr"
      },
      "execution_count": 8,
      "outputs": []
    },
    {
      "cell_type": "code",
      "source": [
        "lri = []\n",
        "lossi = []\n",
        "stepi = []"
      ],
      "metadata": {
        "id": "t2huuyTudBlF"
      },
      "execution_count": 9,
      "outputs": []
    },
    {
      "cell_type": "code",
      "source": [
        "for i in range(200000):\n",
        "\n",
        "  # minibatch construct\n",
        "  ix = torch.randint(0, Xtr.shape[0], (32,))\n",
        "\n",
        "  # forward pass\n",
        "  emb = C[Xtr[ix]] # (32, 3, 2)\n",
        "  h = torch.tanh(emb.view(-1, 30) @ W1 + b1) # (32, 100)\n",
        "  logits = h @ W2 + b2 # (32, 27)\n",
        "  loss = F.cross_entropy(logits, Ytr[ix])\n",
        "  #print(loss.item())\n",
        "\n",
        "  # backward pass\n",
        "  for p in parameters:\n",
        "    p.grad = None\n",
        "  loss.backward()\n",
        "\n",
        "  # update\n",
        "  #lr = lrs[i]\n",
        "  lr = 0.1 if i < 100000 else 0.01\n",
        "  for p in parameters:\n",
        "    p.data += -lr * p.grad\n",
        "\n",
        "  # track stats\n",
        "  #lri.append(lre[i])\n",
        "  stepi.append(i)\n",
        "  lossi.append(loss.log10().item())\n",
        "\n",
        "#print(loss.item())"
      ],
      "metadata": {
        "id": "jiKD-PPOdClh"
      },
      "execution_count": 10,
      "outputs": []
    },
    {
      "cell_type": "code",
      "source": [
        "plt.plot(stepi, lossi)"
      ],
      "metadata": {
        "colab": {
          "base_uri": "https://localhost:8080/",
          "height": 447
        },
        "id": "ZBAYXZ_rdGIG",
        "outputId": "00f2c7fa-6224-4ab2-b8d4-e1bb7fcf7054"
      },
      "execution_count": 11,
      "outputs": [
        {
          "output_type": "execute_result",
          "data": {
            "text/plain": [
              "[<matplotlib.lines.Line2D at 0x7dea11d81450>]"
            ]
          },
          "metadata": {},
          "execution_count": 11
        },
        {
          "output_type": "display_data",
          "data": {
            "text/plain": [
              "<Figure size 640x480 with 1 Axes>"
            ],
            "image/png": "[encoded data removed]"
          },
          "metadata": {}
        }
      ]
    },
    {
      "cell_type": "code",
      "source": [
        "# training loss\n",
        "emb = C[Xtr] # (32, 3, 2)\n",
        "h = torch.tanh(emb.view(-1, 30) @ W1 + b1) # (32, 100)\n",
        "logits = h @ W2 + b2 # (32, 27)\n",
        "loss = F.cross_entropy(logits, Ytr)\n",
        "loss"
      ],
      "metadata": {
        "colab": {
          "base_uri": "https://localhost:8080/"
        },
        "id": "ZlhYinNgdIVF",
        "outputId": "d275cadb-749b-4ee9-e614-f934ed6c63fa"
      },
      "execution_count": 12,
      "outputs": [
        {
          "output_type": "execute_result",
          "data": {
            "text/plain": [
              "tensor(1.9606, grad_fn=<NllLossBackward0>)"
            ]
          },
          "metadata": {},
          "execution_count": 12
        }
      ]
    },
    {
      "cell_type": "code",
      "source": [
        "# validation loss\n",
        "emb = C[Xdev] # (32, 3, 2)\n",
        "h = torch.tanh(emb.view(-1, 30) @ W1 + b1) # (32, 100)\n",
        "logits = h @ W2 + b2 # (32, 27)\n",
        "loss = F.cross_entropy(logits, Ydev)\n",
        "loss"
      ],
      "metadata": {
        "colab": {
          "base_uri": "https://localhost:8080/"
        },
        "id": "cJH3DDu4dLTM",
        "outputId": "9e020297-383c-4164-afdf-b9be4557803b"
      },
      "execution_count": 13,
      "outputs": [
        {
          "output_type": "execute_result",
          "data": {
            "text/plain": [
              "tensor(2.0066, grad_fn=<NllLossBackward0>)"
            ]
          },
          "metadata": {},
          "execution_count": 13
        }
      ]
    },
    {
      "cell_type": "code",
      "source": [
        "# test loss\n",
        "emb = C[Xte] # (32, 3, 2)\n",
        "h = torch.tanh(emb.view(-1, 30) @ W1 + b1) # (32, 100)\n",
        "logits = h @ W2 + b2 # (32, 27)\n",
        "loss = F.cross_entropy(logits, Yte)\n",
        "loss"
      ],
      "metadata": {
        "colab": {
          "base_uri": "https://localhost:8080/"
        },
        "id": "DwOgCg1vdNhe",
        "outputId": "da67506a-2ea6-4691-d19e-f99b616b7266"
      },
      "execution_count": 14,
      "outputs": [
        {
          "output_type": "execute_result",
          "data": {
            "text/plain": [
              "tensor(2.0098, grad_fn=<NllLossBackward0>)"
            ]
          },
          "metadata": {},
          "execution_count": 14
        }
      ]
    },
    {
      "cell_type": "code",
      "source": [
        "# visualize dimensions 0 and 1 of the embedding matrix C for all characters\n",
        "plt.figure(figsize=(8,8))\n",
        "plt.scatter(C[:,0].data, C[:,1].data, s=200)\n",
        "for i in range(C.shape[0]):\n",
        "    plt.text(C[i,0].item(), C[i,1].item(), itos[i], ha=\"center\", va=\"center\", color='white')\n",
        "plt.grid('minor')"
      ],
      "metadata": {
        "colab": {
          "base_uri": "https://localhost:8080/",
          "height": 676
        },
        "id": "CCWLYP9GdPP4",
        "outputId": "b883a749-b4be-4d4d-ed48-548f831d49c6"
      },
      "execution_count": 15,
      "outputs": [
        {
          "output_type": "display_data",
          "data": {
            "text/plain": [
              "<Figure size 800x800 with 1 Axes>"
            ],
            "image/png": "[encoded data removed]"
          },
          "metadata": {}
        }
      ]
    },
    {
      "cell_type": "code",
      "source": [
        "# sample from the model\n",
        "g = torch.Generator().manual_seed(2147483647 + 10)\n",
        "\n",
        "for _ in range(20):\n",
        "\n",
        "    out = []\n",
        "    context = [0] * block_size # initialize with all ...\n",
        "    while True:\n",
        "      emb = C[torch.tensor([context])] # (1,block_size,d)\n",
        "      h = torch.tanh(emb.view(1, -1) @ W1 + b1)\n",
        "      logits = h @ W2 + b2\n",
        "      probs = F.softmax(logits, dim=1)\n",
        "      ix = torch.multinomial(probs, num_samples=1, generator=g).item()\n",
        "      context = context[1:] + [ix]\n",
        "      out.append(ix)\n",
        "      if ix == 0:\n",
        "        break\n",
        "\n",
        "    print(''.join(itos[i] for i in out))"
      ],
      "metadata": {
        "colab": {
          "base_uri": "https://localhost:8080/"
        },
        "id": "TQUMmgRrdRIA",
        "outputId": "4ac5fdd8-46d7-4290-b412-ba387fff43cf"
      },
      "execution_count": 16,
      "outputs": [
        {
          "output_type": "stream",
          "name": "stdout",
          "text": [
            "montaimyanthee.\n",
            "medhrial.\n",
            "redspringdrargroverpointingsly.\n",
            "pearedensvalle.\n",
            "ravilliverter.\n",
            "noshoberg.\n",
            "highest.\n",
            "lake.\n",
            "telvixgwoodfountagedariy.\n",
            "dulaers.\n",
            "lake.\n",
            "hotsburghlandale.\n",
            "buug.\n",
            "uniolvalle.\n",
            "threeksvillegenort.\n",
            "rayono.\n",
            "obageptierracuey.\n",
            "wen.\n",
            "reonview.\n",
            "orf.\n"
          ]
        }
      ]
    },
    {
      "cell_type": "markdown",
      "source": [
        "**Evaluation Methods**"
      ],
      "metadata": {
        "id": "GmiPRg70nd9E"
      }
    },
    {
      "cell_type": "code",
      "source": [
        "#Perplexity measure\n",
        "perplexity = torch.exp(loss)\n",
        "print(f\"Perplexity: {perplexity.item()}\")\n"
      ],
      "metadata": {
        "colab": {
          "base_uri": "https://localhost:8080/"
        },
        "id": "PC2Ezt68ndR4",
        "outputId": "4f779b91-ac7d-4759-8198-d4090708e24c"
      },
      "execution_count": 17,
      "outputs": [
        {
          "output_type": "stream",
          "name": "stdout",
          "text": [
            "Perplexity: 7.461806774139404\n"
          ]
        }
      ]
    },
    {
      "cell_type": "code",
      "source": [
        "#Accuracy of Next Character Prediction\n",
        "correct_predictions = 0\n",
        "total_predictions = len(Xte)\n",
        "\n",
        "for i in range(len(Xte)):\n",
        "    emb = C[Xte[i:i+1]]  # Get the embedding for the current context\n",
        "    h = torch.tanh(emb.view(1, -1) @ W1 + b1)\n",
        "    logits = h @ W2 + b2\n",
        "    predicted_char = torch.argmax(logits, dim=1).item()  # predicted next character\n",
        "    if predicted_char == Yte[i]:\n",
        "        correct_predictions += 1\n",
        "\n",
        "accuracy = correct_predictions / total_predictions\n",
        "print(f\"Accuracy of next character prediction: {accuracy:.4f}\")\n"
      ],
      "metadata": {
        "colab": {
          "base_uri": "https://localhost:8080/"
        },
        "id": "Oam6vRlFn811",
        "outputId": "dc2d3c04-2500-4de6-b86e-037a51ae762d"
      },
      "execution_count": 18,
      "outputs": [
        {
          "output_type": "stream",
          "name": "stdout",
          "text": [
            "Accuracy of next character prediction: 0.3986\n"
          ]
        }
      ]
    },
    {
      "source": [
        "import numpy as np\n",
        "\n",
        "def calculate_cer(predicted, target):\n",
        "    # Convert predicted and target lists of integers to strings\n",
        "    predicted_str = ''.join(itos[i] for i in predicted if i != 0)  # Skip the padding (0)\n",
        "    target_str = ''.join(itos[i] for i in target) # Fix: target is already a list\n",
        "\n",
        "    # Calculate the number of insertions, deletions, and substitutions\n",
        "    # Using Levenshtein distance (edit distance)\n",
        "    return levenshtein_distance(predicted_str, target_str)\n",
        "\n",
        "def levenshtein_distance(s1, s2):\n",
        "    # Create a matrix to store distances\n",
        "    m, n = len(s1), len(s2)\n",
        "    dp = np.zeros((m+1, n+1), dtype=int)\n",
        "\n",
        "    for i in range(m+1):\n",
        "        for j in range(n+1):\n",
        "            if i == 0:\n",
        "                dp[i][j] = j\n",
        "            elif j == 0:\n",
        "                dp[i][j] = i\n",
        "            elif s1[i-1] == s2[j-1]:\n",
        "                dp[i][j] = dp[i-1][j-1]\n",
        "            else:\n",
        "                dp[i][j] = 1 + min(dp[i-1][j], dp[i][j-1], dp[i-1][j-1])\n",
        "\n",
        "    return dp[m][n]\n",
        "# Function to get predictions for the test set\n",
        "def generate_predictions(Xte):\n",
        "    predictions = []\n",
        "    for i in range(Xte.shape[0]):\n",
        "        context = Xte[i].tolist()\n",
        "        out = []\n",
        "\n",
        "        while True:\n",
        "            emb = C[torch.tensor([context])]  # Embeddings\n",
        "            h = torch.tanh(emb.view(1, -1) @ W1 + b1)  # Hidden layer\n",
        "            logits = h @ W2 + b2  # Output layer\n",
        "            probs = F.softmax(logits, dim=1)  # Get probabilities\n",
        "            ix = torch.multinomial(probs, num_samples=1).item()  # Sample the next character\n",
        "            context = context[1:] + [ix]\n",
        "            out.append(ix)\n",
        "\n",
        "            if ix == 0:  # Stop at the dot (end of word)\n",
        "                break\n",
        "\n",
        "        predictions.append(out)\n",
        "    return predictions\n",
        "\n",
        "# Generate predictions on the test set\n",
        "predictions = generate_predictions(Xte)\n",
        "\n",
        "# Evaluate CER for each word in the test set\n",
        "total_cer = 0\n",
        "# Fix: Get the target sequence for each prediction\n",
        "targets = [[t] for t in Yte.tolist()]  # Wrap each target integer in a list\n",
        "\n",
        "for pred, target in zip(predictions, targets): # Fix: Iterate through targets as lists\n",
        "    cer = calculate_cer(pred, target)\n",
        "    total_cer += cer\n",
        "\n",
        "# Calculate the average CER\n",
        "average_cer = total_cer / len(predictions)\n",
        "print(f'Average Character Error Rate (CER) on Test Set: {average_cer}')"
      ],
      "cell_type": "code",
      "metadata": {
        "colab": {
          "base_uri": "https://localhost:8080/"
        },
        "id": "noXmuSBdwW8R",
        "outputId": "2b25853d-7a8a-4fd8-c655-2d482115980e"
      },
      "execution_count": 35,
      "outputs": [
        {
          "output_type": "stream",
          "name": "stdout",
          "text": [
            "Average Character Error Rate (CER) on Test Set: 6.251740025487697\n"
          ]
        }
      ]
    }
  ]
}